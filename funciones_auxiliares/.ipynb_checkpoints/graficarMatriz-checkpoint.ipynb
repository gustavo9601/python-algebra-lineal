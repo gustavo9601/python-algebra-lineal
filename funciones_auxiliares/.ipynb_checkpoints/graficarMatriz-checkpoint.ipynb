{
 "cells": [
  {
   "cell_type": "code",
   "execution_count": 4,
   "metadata": {},
   "outputs": [],
   "source": [
    "%matplotlib inline\n",
    "\n",
    "import numpy as np\n",
    "import matplotlib.pyplot as plt"
   ]
  },
  {
   "cell_type": "code",
   "execution_count": 5,
   "metadata": {},
   "outputs": [],
   "source": [
    "def graficarMatriz(matriz, vectorCol=['red', 'blue']):\n",
    "    #Circulo unitario\n",
    "    x = np.linspace(-1,1,1000000)\n",
    "    y = np.sqrt(1-(x**2))\n",
    "    \n",
    "    #Circulo unitario trasnformado\n",
    "    x1 = matriz[0,0]*x + matriz[0,1]*y\n",
    "    y1 = matriz[1,0]*x + matriz[1,1]*y\n",
    "    \n",
    "    x1_negativa = matriz[0,0]*x - matriz[0,1]*y\n",
    "    y1_negativa = matriz[1,0]*x - matriz[1,1]*y\n",
    "    \n",
    "    #Vectores\n",
    "    u1 = [matriz[0,0], matriz[1,0]]\n",
    "    v1 = [matriz[0,1], matriz[1,1]]\n",
    "    \n",
    "    graficarVectores([u1, v1], colores=[vectorCol[0], vectorCol[1]])\n",
    "    \n",
    "    plt.plot(x1, y1, 'green', alpha= 0.7)\n",
    "    plt.plot(x1_negativa, y1, 'green', alpha= 0.7)\n",
    "    "
   ]
  },
  {
   "cell_type": "code",
   "execution_count": null,
   "metadata": {},
   "outputs": [],
   "source": []
  },
  {
   "cell_type": "code",
   "execution_count": null,
   "metadata": {},
   "outputs": [],
   "source": []
  }
 ],
 "metadata": {
  "kernelspec": {
   "display_name": "Python 3",
   "language": "python",
   "name": "python3"
  },
  "language_info": {
   "codemirror_mode": {
    "name": "ipython",
    "version": 3
   },
   "file_extension": ".py",
   "mimetype": "text/x-python",
   "name": "python",
   "nbconvert_exporter": "python",
   "pygments_lexer": "ipython3",
   "version": "3.7.3"
  }
 },
 "nbformat": 4,
 "nbformat_minor": 2
}
