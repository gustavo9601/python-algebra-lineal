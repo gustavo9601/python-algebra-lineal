{
 "cells": [
  {
   "cell_type": "code",
   "execution_count": 1,
   "metadata": {},
   "outputs": [],
   "source": [
    "import scipy\n",
    "import scipy.linalg"
   ]
  },
  {
   "cell_type": "code",
   "execution_count": 2,
   "metadata": {},
   "outputs": [
    {
     "data": {
      "text/plain": [
       "array([[ 1,  3,  0, -1],\n",
       "       [ 2,  1, -1,  5],\n",
       "       [ 0, -2,  3, -1],\n",
       "       [ 1,  1,  3,  1]])"
      ]
     },
     "execution_count": 2,
     "metadata": {},
     "output_type": "execute_result"
    }
   ],
   "source": [
    "\"\"\"\n",
    "Matriz A\n",
    "1 3 0 -1\n",
    "2 1 -1 5\n",
    "0 -2 3 -1\n",
    "1 1 3 1\n",
    "\"\"\"\n",
    "# Definicion de la matriz cuadradara con scipy\n",
    "A = scipy.array([[1,3,0,-1],[2,1,-1,5],[0,-2,3,-1],[1,1,3,1]])\n",
    "A"
   ]
  },
  {
   "cell_type": "code",
   "execution_count": 5,
   "metadata": {},
   "outputs": [
    {
     "name": "stdout",
     "output_type": "stream",
     "text": [
      "P\n",
      "[[0. 1. 0. 0.]\n",
      " [1. 0. 0. 0.]\n",
      " [0. 0. 1. 0.]\n",
      " [0. 0. 0. 1.]]\n",
      "L\n",
      "[[ 1.   0.   0.   0. ]\n",
      " [ 0.5  1.   0.   0. ]\n",
      " [ 0.  -0.8  1.   0. ]\n",
      " [ 0.5  0.2  1.   1. ]]\n",
      "U\n",
      "[[ 2.   1.  -1.   5. ]\n",
      " [ 0.   2.5  0.5 -3.5]\n",
      " [ 0.   0.   3.4 -3.8]\n",
      " [ 0.   0.   0.   3. ]]\n"
     ]
    }
   ],
   "source": [
    "# Obteniendo la facturoizacion en LU para la matriz A\n",
    "# scipy.linalg.lu(matriz)\n",
    "# Devuelve 3 matrices respectivamente\n",
    "\n",
    "\n",
    "P, L, U = scipy.linalg.lu(A)\n",
    "print(\"P\")\n",
    "print(P) # Permutacion o intercambio de filas\n",
    "print(\"L\")\n",
    "print(L) # Lower matriz escalonada inferior\n",
    "print(\"U\")\n",
    "print(U) # Upper matriz escalonada superior"
   ]
  },
  {
   "cell_type": "code",
   "execution_count": 7,
   "metadata": {},
   "outputs": [
    {
     "data": {
      "text/plain": [
       "array([[ 1,  3,  0, -1],\n",
       "       [ 2,  1, -1,  5],\n",
       "       [ 0, -2,  3, -1],\n",
       "       [ 1,  1,  3,  1]])"
      ]
     },
     "execution_count": 7,
     "metadata": {},
     "output_type": "execute_result"
    }
   ],
   "source": [
    "\"\"\"\n",
    "Matriz B\n",
    "1 3 0 -1\n",
    "2 1 -1 5\n",
    "0 -2 3 -1\n",
    "1 1 3 1\n",
    "\"\"\"\n",
    "B = scipy.array([[1,3,0,-1],[2,1,-1,5],[0,-2,3,-1],[1,1,3,1]])\n",
    "B"
   ]
  },
  {
   "cell_type": "code",
   "execution_count": 8,
   "metadata": {},
   "outputs": [
    {
     "name": "stdout",
     "output_type": "stream",
     "text": [
      "P\n",
      "[[0. 1. 0. 0.]\n",
      " [1. 0. 0. 0.]\n",
      " [0. 0. 1. 0.]\n",
      " [0. 0. 0. 1.]]\n",
      "L\n",
      "[[ 1.   0.   0.   0. ]\n",
      " [ 0.5  1.   0.   0. ]\n",
      " [ 0.  -0.8  1.   0. ]\n",
      " [ 0.5  0.2  1.   1. ]]\n",
      "U\n",
      "[[ 2.   1.  -1.   5. ]\n",
      " [ 0.   2.5  0.5 -3.5]\n",
      " [ 0.   0.   3.4 -3.8]\n",
      " [ 0.   0.   0.   3. ]]\n"
     ]
    }
   ],
   "source": [
    "# Obteniendo la facturoizacion en LU para la matriz A\n",
    "# scipy.linalg.lu(matriz)\n",
    "# Devuelve 3 matrices respectivamente\n",
    "\n",
    "\n",
    "P, L, U = scipy.linalg.lu(B)\n",
    "print(\"P\")\n",
    "print(P)\n",
    "print(\"L\")\n",
    "print(L)\n",
    "print(\"U\")\n",
    "print(U)"
   ]
  },
  {
   "cell_type": "code",
   "execution_count": null,
   "metadata": {},
   "outputs": [],
   "source": [
    "# Segunda forma\n"
   ]
  },
  {
   "cell_type": "code",
   "execution_count": null,
   "metadata": {},
   "outputs": [],
   "source": []
  },
  {
   "cell_type": "code",
   "execution_count": null,
   "metadata": {},
   "outputs": [],
   "source": []
  }
 ],
 "metadata": {
  "kernelspec": {
   "display_name": "Python 3",
   "language": "python",
   "name": "python3"
  },
  "language_info": {
   "codemirror_mode": {
    "name": "ipython",
    "version": 3
   },
   "file_extension": ".py",
   "mimetype": "text/x-python",
   "name": "python",
   "nbconvert_exporter": "python",
   "pygments_lexer": "ipython3",
   "version": "3.7.3"
  }
 },
 "nbformat": 4,
 "nbformat_minor": 2
}
