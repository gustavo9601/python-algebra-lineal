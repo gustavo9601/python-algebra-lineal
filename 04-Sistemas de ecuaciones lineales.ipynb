{
 "cells": [
  {
   "cell_type": "markdown",
   "metadata": {},
   "source": [
    "# Sistemas compatibles deternimados"
   ]
  },
  {
   "cell_type": "code",
   "execution_count": 2,
   "metadata": {},
   "outputs": [],
   "source": [
    "import numpy as np"
   ]
  },
  {
   "cell_type": "code",
   "execution_count": 11,
   "metadata": {},
   "outputs": [
    {
     "name": "stdout",
     "output_type": "stream",
     "text": [
      "A\n",
      "[[ 1  1  2]\n",
      " [ 2  4 -3]\n",
      " [ 3  6 -5]]\n",
      "b\n",
      "[9 1 0]\n",
      "AB\n",
      "[[ 1  1  2  9]\n",
      " [ 2  4 -3  1]\n",
      " [ 3  6 -5  0]]\n"
     ]
    }
   ],
   "source": [
    "\"\"\"\n",
    "Ecuacion\n",
    "\n",
    "x1 + x2 + 2x3 = 9\n",
    "2x1 + 4x2 - 3x3 = 1\n",
    "3x1 + 6x2 - 5x3 = 0\n",
    "\n",
    "\"\"\"\n",
    "A = np.array([[1,1,2],[2,4,-3],[3,6,-5]])\n",
    "b = np.array([9,1,0])\n",
    "AB = np.array([[1,1,2,9],[2,4,-3,1],[3,6,-5,0]])\n",
    "\n",
    "print(\"A\")\n",
    "print(A)\n",
    "print(\"b\")\n",
    "print(b)\n",
    "print(\"AB\")\n",
    "print(AB)"
   ]
  },
  {
   "cell_type": "code",
   "execution_count": 7,
   "metadata": {},
   "outputs": [
    {
     "data": {
      "text/plain": [
       "True"
      ]
     },
     "execution_count": 7,
     "metadata": {},
     "output_type": "execute_result"
    }
   ],
   "source": [
    "# 1. Comprobando el rango de A es igual de la Ampliada para saber si es compatible\n",
    "\n",
    "rango_A = np.linalg.matrix_rank(A)\n",
    "rango_AB = np.linalg.matrix_rank(AB)\n",
    "rango_A == rango_AB"
   ]
  },
  {
   "cell_type": "code",
   "execution_count": 9,
   "metadata": {},
   "outputs": [
    {
     "data": {
      "text/plain": [
       "True"
      ]
     },
     "execution_count": 9,
     "metadata": {},
     "output_type": "execute_result"
    }
   ],
   "source": [
    "# 2. Comprobando si es igual al numero de incognitas, para ver si es compatible determinado\n",
    "# Incognitas 3\n",
    "np.linalg.matrix_rank(A) == 3"
   ]
  },
  {
   "cell_type": "code",
   "execution_count": 12,
   "metadata": {},
   "outputs": [
    {
     "data": {
      "text/plain": [
       "array([1., 2., 3.])"
      ]
     },
     "execution_count": 12,
     "metadata": {},
     "output_type": "execute_result"
    }
   ],
   "source": [
    "#. Solucion siempre y cuando sea un sistema compatible y determinado\n",
    "x = np.linalg.solve(A, b)\n",
    "x"
   ]
  },
  {
   "cell_type": "code",
   "execution_count": 13,
   "metadata": {},
   "outputs": [
    {
     "data": {
      "text/plain": [
       "array([9., 1., 0.])"
      ]
     },
     "execution_count": 13,
     "metadata": {},
     "output_type": "execute_result"
    }
   ],
   "source": [
    "# Comprobando que los valores obtenidos si sean los esperados\n",
    "# 1. Producto matricial de Matriz inicial por el resultado\n",
    "# Si es correcto deberia obtener el arreglo b de las igualdades de cada ecuacion\n",
    "A.dot(x)"
   ]
  },
  {
   "cell_type": "markdown",
   "metadata": {},
   "source": [
    "### Resolviendo las ecuaciones con sympy"
   ]
  },
  {
   "cell_type": "code",
   "execution_count": 3,
   "metadata": {},
   "outputs": [],
   "source": [
    "\n",
    "from sympy import * \n",
    "from sympy.solvers.solveset import linsolve"
   ]
  },
  {
   "cell_type": "code",
   "execution_count": 19,
   "metadata": {},
   "outputs": [
    {
     "data": {
      "text/plain": [
       "(x, y, x1, x2, x3)"
      ]
     },
     "execution_count": 19,
     "metadata": {},
     "output_type": "execute_result"
    }
   ],
   "source": [
    "\"\"\"\n",
    "Ecuacion\n",
    "\n",
    "2x1 + 2x2 = 1\n",
    "-x1 + x2 = 2\n",
    "\n",
    "\"\"\"\n",
    "\n",
    "# Enlace simbolico a variables o incognitas\n",
    "x, y, z = symbols('x,y,z')\n",
    "x1, x2, x3 = symbols('x1,x2,x3')\n",
    "x,y,x1,x2,x3"
   ]
  },
  {
   "cell_type": "code",
   "execution_count": 26,
   "metadata": {},
   "outputs": [
    {
     "data": {
      "text/latex": [
       "$\\displaystyle \\left\\{\\left( - \\frac{3}{4}, \\  \\frac{5}{4}\\right)\\right\\}$"
      ],
      "text/plain": [
       "{(-3/4, 5/4)}"
      ]
     },
     "execution_count": 26,
     "metadata": {},
     "output_type": "execute_result"
    }
   ],
   "source": [
    "# El termino independiente debe pasar al otro lado de la ecuacion para poder operarlo\n",
    "\n",
    "# linsolve([ecuacion1, ecuasion2, .... ecuasionN], (incognita1, incognita2, ..., incognitaX))\n",
    "linsolve([2*x1 + 2*x2 - 1, -x1 + x2 -2], (x1, x2))"
   ]
  },
  {
   "cell_type": "code",
   "execution_count": 27,
   "metadata": {},
   "outputs": [
    {
     "data": {
      "text/latex": [
       "$\\displaystyle \\left\\{\\left( - \\frac{3}{4}, \\  \\frac{5}{4}\\right)\\right\\}$"
      ],
      "text/plain": [
       "{(-3/4, 5/4)}"
      ]
     },
     "execution_count": 27,
     "metadata": {},
     "output_type": "execute_result"
    }
   ],
   "source": [
    "# Misma ecuacion, pero pasando como terminos independientes la matriz ampliada\n",
    "# Maztrix(([terminos ecuasion 1], [terminos ecuasion 2], [terminos ecuacion n])), (incognita 1, incognita 2, incognita n))\n",
    "linsolve(Matrix(([2,2,1], [-1,1,2])), (x1,x2))"
   ]
  },
  {
   "cell_type": "code",
   "execution_count": 25,
   "metadata": {},
   "outputs": [
    {
     "data": {
      "text/latex": [
       "$\\displaystyle \\left\\{\\left( 1, \\  2, \\  3\\right)\\right\\}$"
      ],
      "text/plain": [
       "{(1, 2, 3)}"
      ]
     },
     "execution_count": 25,
     "metadata": {},
     "output_type": "execute_result"
    }
   ],
   "source": [
    "\"\"\"\n",
    "Ecuacion\n",
    "\n",
    "x1 + x2 + 2x3 = 9\n",
    "2x1 + 4x2 - 3x3 = 1\n",
    "3x1 + 6x2 - 5x3 = 0\n",
    "\"\"\"\n",
    "linsolve([x1 + x2 + 2*x3 - 9, 2*x1 + 4*x2 - 3*x3 - 1, 3*x1 + 6*x2 - 5*x3], (x1, x2, x3))"
   ]
  },
  {
   "cell_type": "markdown",
   "metadata": {},
   "source": [
    "# Representacion grafica de sistemas lineales"
   ]
  },
  {
   "cell_type": "code",
   "execution_count": 1,
   "metadata": {},
   "outputs": [],
   "source": [
    "import matplotlib.pyplot as plt"
   ]
  },
  {
   "cell_type": "code",
   "execution_count": 36,
   "metadata": {},
   "outputs": [
    {
     "data": {
      "text/plain": [
       "array([ 0.        ,  0.1010101 ,  0.2020202 ,  0.3030303 ,  0.4040404 ,\n",
       "        0.50505051,  0.60606061,  0.70707071,  0.80808081,  0.90909091,\n",
       "        1.01010101,  1.11111111,  1.21212121,  1.31313131,  1.41414141,\n",
       "        1.51515152,  1.61616162,  1.71717172,  1.81818182,  1.91919192,\n",
       "        2.02020202,  2.12121212,  2.22222222,  2.32323232,  2.42424242,\n",
       "        2.52525253,  2.62626263,  2.72727273,  2.82828283,  2.92929293,\n",
       "        3.03030303,  3.13131313,  3.23232323,  3.33333333,  3.43434343,\n",
       "        3.53535354,  3.63636364,  3.73737374,  3.83838384,  3.93939394,\n",
       "        4.04040404,  4.14141414,  4.24242424,  4.34343434,  4.44444444,\n",
       "        4.54545455,  4.64646465,  4.74747475,  4.84848485,  4.94949495,\n",
       "        5.05050505,  5.15151515,  5.25252525,  5.35353535,  5.45454545,\n",
       "        5.55555556,  5.65656566,  5.75757576,  5.85858586,  5.95959596,\n",
       "        6.06060606,  6.16161616,  6.26262626,  6.36363636,  6.46464646,\n",
       "        6.56565657,  6.66666667,  6.76767677,  6.86868687,  6.96969697,\n",
       "        7.07070707,  7.17171717,  7.27272727,  7.37373737,  7.47474747,\n",
       "        7.57575758,  7.67676768,  7.77777778,  7.87878788,  7.97979798,\n",
       "        8.08080808,  8.18181818,  8.28282828,  8.38383838,  8.48484848,\n",
       "        8.58585859,  8.68686869,  8.78787879,  8.88888889,  8.98989899,\n",
       "        9.09090909,  9.19191919,  9.29292929,  9.39393939,  9.49494949,\n",
       "        9.5959596 ,  9.6969697 ,  9.7979798 ,  9.8989899 , 10.        ])"
      ]
     },
     "execution_count": 36,
     "metadata": {},
     "output_type": "execute_result"
    }
   ],
   "source": [
    "# Numeros aletaorios en la escalara de 0 a 10 y cantidad 100\n",
    "x1 = np.linspace(0, 10, 100)\n",
    "x1"
   ]
  },
  {
   "cell_type": "code",
   "execution_count": 37,
   "metadata": {},
   "outputs": [
    {
     "data": {
      "text/plain": [
       "[<matplotlib.lines.Line2D at 0x6509ec9b38>,\n",
       " <matplotlib.lines.Line2D at 0x6509ec9c88>]"
      ]
     },
     "execution_count": 37,
     "metadata": {},
     "output_type": "execute_result"
    },
    {
     "data": {
      "image/png": "[encoded data removed]",
      "text/plain": [
       "<Figure size 432x288 with 1 Axes>"
      ]
     },
     "metadata": {
      "needs_background": "light"
     },
     "output_type": "display_data"
    }
   ],
   "source": [
    "# Usamos los 100 numeros aletaroios, como posibles valores de x para graficarlos en las funciones\n",
    "plt.plot(x1, 1/2-x1, x1, (2+x1)/4)"
   ]
  },
  {
   "cell_type": "code",
   "execution_count": null,
   "metadata": {},
   "outputs": [],
   "source": [
    " \"\"\"\n",
    "Ecuacion\n",
    "\n",
    "4x + 2y = 3\n",
    "x - 2y = 2\n",
    "3x + 4y = 1\n",
    "\n",
    "// Despejando en las ecuaciones la Y, para poder graficarlas \n",
    "y = 3/2 - 2x\n",
    "y = (x/2) - 1\n",
    "y = (1-3x) / 4\n",
    "\n",
    "\"\"\""
   ]
  },
  {
   "cell_type": "code",
   "execution_count": 39,
   "metadata": {},
   "outputs": [
    {
     "data": {
      "text/plain": [
       "[<matplotlib.lines.Line2D at 0x650af5f6a0>,\n",
       " <matplotlib.lines.Line2D at 0x650af5f7f0>,\n",
       " <matplotlib.lines.Line2D at 0x650af5f940>]"
      ]
     },
     "execution_count": 39,
     "metadata": {},
     "output_type": "execute_result"
    },
    {
     "data": {
      "image/png": "[encoded data removed]",
      "text/plain": [
       "<Figure size 432x288 with 1 Axes>"
      ]
     },
     "metadata": {
      "needs_background": "light"
     },
     "output_type": "display_data"
    }
   ],
   "source": [
    "# Numeros aletaorios en la escalara de 0 a 10 y cantidad 100\n",
    "x1 = np.linspace(0, 10, 100)\n",
    "# Usamos los 100 numeros aletaroios, como posibles valores de x para graficarlos en las funciones\n",
    "plt.plot(x1, 3/2 - 2*x1, x1, (x1/2) - 1, x1, (1-3*x1)/4)\n",
    "\n",
    "# Se puede concluir que el sistema es compatible determinado ya que las 3 rectas se interceptan en un mismo punto"
   ]
  },
  {
   "cell_type": "markdown",
   "metadata": {},
   "source": [
    "## Sistemas compatbiles indeterminados (Infinitas soluciones)"
   ]
  },
  {
   "cell_type": "code",
   "execution_count": 4,
   "metadata": {},
   "outputs": [
    {
     "data": {
      "text/plain": [
       "'\\nEcuacion\\n\\nx + y - z = 2\\nx - y + z = 1\\n3x + y - z = 5\\n\\n'"
      ]
     },
     "execution_count": 4,
     "metadata": {},
     "output_type": "execute_result"
    }
   ],
   "source": [
    " \"\"\"\n",
    "Ecuacion\n",
    "\n",
    "x + y - z = 2\n",
    "x - y + z = 1\n",
    "3x + y - z = 5\n",
    "\n",
    "\"\"\""
   ]
  },
  {
   "cell_type": "code",
   "execution_count": 7,
   "metadata": {},
   "outputs": [
    {
     "name": "stdout",
     "output_type": "stream",
     "text": [
      "A\n",
      "[[ 1  1 -1]\n",
      " [ 1 -1  1]\n",
      " [ 3  1 -1]]\n",
      "B\n",
      "[[2 1 5]]\n",
      "AB\n",
      "[[ 1  1 -1  2]\n",
      " [ 1 -1  1  1]\n",
      " [ 3  1 -1  5]]\n"
     ]
    }
   ],
   "source": [
    "A = np.array([[1,1,-1],[1,-1,1],[3,1,-1]])\n",
    "B = np.array([[2,1,5]])\n",
    "AB = np.array([[1,1,-1,2],[1,-1,1,1],[3,1,-1,5]])\n",
    "print('A')\n",
    "print(A)\n",
    "print('B')\n",
    "print(B)\n",
    "print('AB')\n",
    "print(AB)"
   ]
  },
  {
   "cell_type": "code",
   "execution_count": 14,
   "metadata": {},
   "outputs": [
    {
     "data": {
      "text/plain": [
       "(2, 2)"
      ]
     },
     "execution_count": 14,
     "metadata": {},
     "output_type": "execute_result"
    }
   ],
   "source": [
    "# Calculamos los rangos de la matriz de coeficintes y la matriz ampliada para ver de que tipo de sistema se trata:\n",
    "\n",
    "rango_A = np.linalg.matrix_rank(A) # Rango matriz de coeficientes\n",
    "rango_AB = np.linalg.matrix_rank(AB) # Rango matriz ampliada\n",
    "rango_A, rango_AB\n",
    "\n",
    "# El rango en ambas matrices es de 2, sin embargo hay 3 incognitas\n",
    "# => Se puede concluir por el Teorima de Rouche Frobenius se trata de un sistema compatible indeterminado\n",
    "# => indeterminado (Que tiene infinitas soluciones), infinitos puntos de corte si se llegar aa graficar"
   ]
  },
  {
   "cell_type": "code",
   "execution_count": null,
   "metadata": {},
   "outputs": [],
   "source": [
    "\n",
    "from sympy import * \n",
    "from sympy.solvers.solveset import linsolve"
   ]
  },
  {
   "cell_type": "code",
   "execution_count": 17,
   "metadata": {},
   "outputs": [
    {
     "data": {
      "text/plain": [
       "(x, y, z)"
      ]
     },
     "execution_count": 17,
     "metadata": {},
     "output_type": "execute_result"
    }
   ],
   "source": [
    "# Enlace simbolico a variables o incognitas\n",
    "x, y, z = symbols('x,y,z')\n",
    "x,y,z"
   ]
  },
  {
   "cell_type": "code",
   "execution_count": 19,
   "metadata": {},
   "outputs": [
    {
     "data": {
      "text/latex": [
       "$\\displaystyle \\left\\{\\left( \\frac{3}{2}, \\  z + \\frac{1}{2}, \\  z\\right)\\right\\}$"
      ],
      "text/plain": [
       "{(3/2, z + 1/2, z)}"
      ]
     },
     "execution_count": 19,
     "metadata": {},
     "output_type": "execute_result"
    }
   ],
   "source": [
    "# El termino independiente debe pasar al otro lado de la ecuacion para poder operarlo\n",
    "\n",
    "# linsolve([ecuacion1, ecuasion2, .... ecuasionN], (incognita1, incognita2, ..., incognitaX))\n",
    "linsolve([1*x + 1*y - 1*z -2, 1*x - 1*y + 1*z -1, 3*x + 1*y - 1*z - 5], (x, y, z))"
   ]
  },
  {
   "cell_type": "code",
   "execution_count": null,
   "metadata": {},
   "outputs": [],
   "source": [
    "# Se puede concluir que x = > 3/2 , y => z + 1/2 , z => z por lo tanto la z es una variale libre y X y Y \n",
    "# son dependientes de esa variable libre "
   ]
  },
  {
   "cell_type": "markdown",
   "metadata": {},
   "source": [
    "## Sistemas incompatibles"
   ]
  },
  {
   "cell_type": "code",
   "execution_count": 20,
   "metadata": {},
   "outputs": [
    {
     "data": {
      "text/plain": [
       "'\\nEcuacion\\n\\nx + y = 2\\nx - y = 1\\n2x + y = 3\\n\\n'"
      ]
     },
     "execution_count": 20,
     "metadata": {},
     "output_type": "execute_result"
    }
   ],
   "source": [
    " \"\"\"\n",
    "Ecuacion\n",
    "\n",
    "x + y = 2\n",
    "x - y = 1\n",
    "2x + y = 3\n",
    "\n",
    "\"\"\""
   ]
  },
  {
   "cell_type": "code",
   "execution_count": 21,
   "metadata": {},
   "outputs": [
    {
     "name": "stdout",
     "output_type": "stream",
     "text": [
      "A\n",
      "[[ 1  1]\n",
      " [ 1 -1]\n",
      " [ 2  1]]\n",
      "B\n",
      "[[2 1 3]]\n",
      "AB\n",
      "[[ 1  1  2]\n",
      " [ 1 -1  1]\n",
      " [ 2  1  3]]\n"
     ]
    }
   ],
   "source": [
    "A = np.array([[1,1],[1,-1],[2,1]])\n",
    "B = np.array([[2,1,3]])\n",
    "AB = np.array([[1,1,2],[1,-1,1],[2,1,3]])\n",
    "print('A')\n",
    "print(A)\n",
    "print('B')\n",
    "print(B)\n",
    "print('AB')\n",
    "print(AB)"
   ]
  },
  {
   "cell_type": "code",
   "execution_count": 22,
   "metadata": {},
   "outputs": [
    {
     "data": {
      "text/plain": [
       "(2, 3)"
      ]
     },
     "execution_count": 22,
     "metadata": {},
     "output_type": "execute_result"
    }
   ],
   "source": [
    "# Calculamos los rangos de la matriz de coeficintes y la matriz ampliada para ver de que tipo de sistema se trata:\n",
    "\n",
    "rango_A = np.linalg.matrix_rank(A) # Rango matriz de coeficientes\n",
    "rango_AB = np.linalg.matrix_rank(AB) # Rango matriz ampliada\n",
    "rango_A, rango_AB\n",
    "\n",
    "# Tienen rangos distintos de la matriz de coeficientes y la ampliada, ademas tiene 2 incognitas y \n",
    "# en la ampliada es de rango 3, por lo tanto es incompatible este sistema de ecuaciones y no tiene solucion\n"
   ]
  },
  {
   "cell_type": "code",
   "execution_count": 25,
   "metadata": {},
   "outputs": [
    {
     "data": {
      "text/latex": [
       "$\\displaystyle \\emptyset$"
      ],
      "text/plain": [
       "EmptySet()"
      ]
     },
     "execution_count": 25,
     "metadata": {},
     "output_type": "execute_result"
    }
   ],
   "source": [
    "# Otra forma usar el linsolve, pasando los coeficientes y valores independientes como arreglos\n",
    "linsolve(Matrix(([1,1,2],[1,-1,1],[2,1,3])), (x,y))\n",
    "\n",
    "# Se obtiene vacio || EmptySet() => Conjunto vacio || no tiene ninguna solucion"
   ]
  },
  {
   "cell_type": "code",
   "execution_count": 28,
   "metadata": {},
   "outputs": [
    {
     "data": {
      "text/plain": [
       "array([-1.        , -0.96969697, -0.93939394, -0.90909091, -0.87878788,\n",
       "       -0.84848485, -0.81818182, -0.78787879, -0.75757576, -0.72727273,\n",
       "       -0.6969697 , -0.66666667, -0.63636364, -0.60606061, -0.57575758,\n",
       "       -0.54545455, -0.51515152, -0.48484848, -0.45454545, -0.42424242,\n",
       "       -0.39393939, -0.36363636, -0.33333333, -0.3030303 , -0.27272727,\n",
       "       -0.24242424, -0.21212121, -0.18181818, -0.15151515, -0.12121212,\n",
       "       -0.09090909, -0.06060606, -0.03030303,  0.        ,  0.03030303,\n",
       "        0.06060606,  0.09090909,  0.12121212,  0.15151515,  0.18181818,\n",
       "        0.21212121,  0.24242424,  0.27272727,  0.3030303 ,  0.33333333,\n",
       "        0.36363636,  0.39393939,  0.42424242,  0.45454545,  0.48484848,\n",
       "        0.51515152,  0.54545455,  0.57575758,  0.60606061,  0.63636364,\n",
       "        0.66666667,  0.6969697 ,  0.72727273,  0.75757576,  0.78787879,\n",
       "        0.81818182,  0.84848485,  0.87878788,  0.90909091,  0.93939394,\n",
       "        0.96969697,  1.        ,  1.03030303,  1.06060606,  1.09090909,\n",
       "        1.12121212,  1.15151515,  1.18181818,  1.21212121,  1.24242424,\n",
       "        1.27272727,  1.3030303 ,  1.33333333,  1.36363636,  1.39393939,\n",
       "        1.42424242,  1.45454545,  1.48484848,  1.51515152,  1.54545455,\n",
       "        1.57575758,  1.60606061,  1.63636364,  1.66666667,  1.6969697 ,\n",
       "        1.72727273,  1.75757576,  1.78787879,  1.81818182,  1.84848485,\n",
       "        1.87878788,  1.90909091,  1.93939394,  1.96969697,  2.        ])"
      ]
     },
     "execution_count": 28,
     "metadata": {},
     "output_type": "execute_result"
    }
   ],
   "source": [
    "# Comprobacion de prueba por medio de graficas\n",
    "\n",
    "# Se declara un rango de numeros que generaran los puntos en el espacio al ejecutarce la ejecuacion\n",
    "x = np.linspace(-1,2,100)\n",
    "x"
   ]
  },
  {
   "cell_type": "code",
   "execution_count": 29,
   "metadata": {},
   "outputs": [
    {
     "data": {
      "text/plain": [
       "[<matplotlib.lines.Line2D at 0xa438ce8be0>,\n",
       " <matplotlib.lines.Line2D at 0xa438ce8d68>,\n",
       " <matplotlib.lines.Line2D at 0xa438ce8eb8>]"
      ]
     },
     "execution_count": 29,
     "metadata": {},
     "output_type": "execute_result"
    },
    {
     "data": {
      "image/png": "[encoded data removed]",
      "text/plain": [
       "<Figure size 432x288 with 1 Axes>"
      ]
     },
     "metadata": {
      "needs_background": "light"
     },
     "output_type": "display_data"
    }
   ],
   "source": [
    "# Se despeja la Y para operar por el eje de las X cada ecuacion\n",
    "plt.plot(x, 2 - x, x, 1 + x, 3 - 2*x)\n",
    "\n",
    "# Se puede observar que no existen puntos que se conecten las 3 rectas por lo tanto es INCOMPATIBLE"
   ]
  },
  {
   "cell_type": "code",
   "execution_count": null,
   "metadata": {},
   "outputs": [],
   "source": []
  },
  {
   "cell_type": "code",
   "execution_count": null,
   "metadata": {},
   "outputs": [],
   "source": []
  },
  {
   "cell_type": "code",
   "execution_count": null,
   "metadata": {},
   "outputs": [],
   "source": []
  },
  {
   "cell_type": "code",
   "execution_count": null,
   "metadata": {},
   "outputs": [],
   "source": []
  },
  {
   "cell_type": "code",
   "execution_count": null,
   "metadata": {},
   "outputs": [],
   "source": []
  },
  {
   "cell_type": "code",
   "execution_count": null,
   "metadata": {},
   "outputs": [],
   "source": []
  },
  {
   "cell_type": "code",
   "execution_count": null,
   "metadata": {},
   "outputs": [],
   "source": []
  },
  {
   "cell_type": "code",
   "execution_count": null,
   "metadata": {},
   "outputs": [],
   "source": []
  },
  {
   "cell_type": "code",
   "execution_count": null,
   "metadata": {},
   "outputs": [],
   "source": []
  },
  {
   "cell_type": "code",
   "execution_count": null,
   "metadata": {},
   "outputs": [],
   "source": []
  },
  {
   "cell_type": "code",
   "execution_count": null,
   "metadata": {},
   "outputs": [],
   "source": []
  },
  {
   "cell_type": "code",
   "execution_count": null,
   "metadata": {},
   "outputs": [],
   "source": []
  },
  {
   "cell_type": "code",
   "execution_count": null,
   "metadata": {},
   "outputs": [],
   "source": []
  },
  {
   "cell_type": "code",
   "execution_count": null,
   "metadata": {},
   "outputs": [],
   "source": []
  },
  {
   "cell_type": "code",
   "execution_count": null,
   "metadata": {},
   "outputs": [],
   "source": []
  },
  {
   "cell_type": "code",
   "execution_count": null,
   "metadata": {},
   "outputs": [],
   "source": []
  },
  {
   "cell_type": "code",
   "execution_count": null,
   "metadata": {},
   "outputs": [],
   "source": []
  },
  {
   "cell_type": "code",
   "execution_count": null,
   "metadata": {},
   "outputs": [],
   "source": []
  },
  {
   "cell_type": "code",
   "execution_count": null,
   "metadata": {},
   "outputs": [],
   "source": []
  },
  {
   "cell_type": "code",
   "execution_count": null,
   "metadata": {},
   "outputs": [],
   "source": []
  },
  {
   "cell_type": "code",
   "execution_count": null,
   "metadata": {},
   "outputs": [],
   "source": []
  },
  {
   "cell_type": "code",
   "execution_count": null,
   "metadata": {},
   "outputs": [],
   "source": []
  },
  {
   "cell_type": "code",
   "execution_count": null,
   "metadata": {},
   "outputs": [],
   "source": []
  },
  {
   "cell_type": "code",
   "execution_count": null,
   "metadata": {},
   "outputs": [],
   "source": []
  },
  {
   "cell_type": "code",
   "execution_count": null,
   "metadata": {},
   "outputs": [],
   "source": []
  },
  {
   "cell_type": "code",
   "execution_count": null,
   "metadata": {},
   "outputs": [],
   "source": []
  },
  {
   "cell_type": "code",
   "execution_count": null,
   "metadata": {},
   "outputs": [],
   "source": []
  }
 ],
 "metadata": {
  "kernelspec": {
   "display_name": "Python 3",
   "language": "python",
   "name": "python3"
  },
  "language_info": {
   "codemirror_mode": {
    "name": "ipython",
    "version": 3
   },
   "file_extension": ".py",
   "mimetype": "text/x-python",
   "name": "python",
   "nbconvert_exporter": "python",
   "pygments_lexer": "ipython3",
   "version": "3.7.3"
  }
 },
 "nbformat": 4,
 "nbformat_minor": 2
}
